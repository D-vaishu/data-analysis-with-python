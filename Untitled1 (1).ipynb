{
  "cells": [
    {
      "cell_type": "code",
      "execution_count": null,
      "metadata": {
        "colab": {
          "base_uri": "https://localhost:8080/"
        },
        "id": "H-WVk8bEvUFi",
        "outputId": "b81af7bc-5c91-4d19-e1ec-07f3a030c1d3"
      },
      "outputs": [
        {
          "name": "stdout",
          "output_type": "stream",
          "text": [
            "{'fname': 'John', 'sname': 'Alice', 'percentage': '46', 'result': 'Can choose someone better.'}\n"
          ]
        }
      ],
      "source": [
        "\n",
        "import requests\n",
        "\n",
        "url = \"https://love-calculator.p.rapidapi.com/getPercentage\"\n",
        "\n",
        "querystring = {\"sname\":\"Alice\",\"fname\":\"John\"}\n",
        "\n",
        "headers = {\n",
        "\t\"X-RapidAPI-Key\": \"922ac22f29mshfdfdc1d149c727dp13d584jsn9a814473023b\",\n",
        "\t\"X-RapidAPI-Host\": \"love-calculator.p.rapidapi.com\"\n",
        "}\n",
        "\n",
        "response = requests.get(url, headers=headers, params=querystring)\n",
        "\n",
        "print(response.json())"
      ]
    },
    {
      "cell_type": "code",
      "execution_count": null,
      "metadata": {
        "colab": {
          "base_uri": "https://localhost:8080/"
        },
        "id": "-Onid-USwUXL",
        "outputId": "8283bb69-09c1-421e-bcb1-8321a980b947"
      },
      "outputs": [
        {
          "name": "stdout",
          "output_type": "stream",
          "text": [
            "{'status': False, 'data': {'message': 'your message', 'number': '919876543210'}}\n"
          ]
        }
      ],
      "source": [
        "import requests\n",
        "\n",
        "url = \"https://getitsms-whatsapp-apis.p.rapidapi.com/45\"\n",
        "\n",
        "querystring = {\"your_number\":\"919876543210\",\"your_message\":\"your message\"}\n",
        "\n",
        "payload = {\n",
        "\t\"your_number\": \"919876543210\",\n",
        "\t\"your_message\": \"your message\"\n",
        "}\n",
        "headers = {\n",
        "\t\"content-type\": \"application/json\",\n",
        "\t\"X-RapidAPI-Key\": \"922ac22f29mshfdfdc1d149c727dp13d584jsn9a814473023b\",\n",
        "\t\"X-RapidAPI-Host\": \"getitsms-whatsapp-apis.p.rapidapi.com\"\n",
        "}\n",
        "\n",
        "response = requests.post(url, json=payload, headers=headers, params=querystring)\n",
        "\n",
        "print(response.json())"
      ]
    },
    {
      "cell_type": "code",
      "execution_count": null,
      "metadata": {
        "id": "-xI6MYNDw3YF"
      },
      "outputs": [],
      "source": [
        "import requests\n",
        "\n",
        "url = \"https://itunesvolodimir-kudriachenkov1.p.rapidapi.com/searchMovies\"\n",
        "\n",
        "payload = {\n",
        "\t\"country\": \"india\",\n",
        "\t\"term\": \"song\",\n",
        "\t\"limit\": \"50\"\n",
        "}\n",
        "headers = {\n",
        "\t\"content-type\": \"application/x-www-form-urlencoded\",\n",
        "\t\"X-RapidAPI-Key\": \"922ac22f29mshfdfdc1d149c727dp13d584jsn9a814473023b\",\n",
        "\t\"X-RapidAPI-Host\": \"iTunesvolodimir-kudriachenkoV1.p.rapidapi.com\"\n",
        "}\n",
        "\n",
        "response = requests.post(url, data=payload, headers=headers)\n",
        "\n",
        "print(response.json())"
      ]
    },
    {
      "cell_type": "code",
      "execution_count": null,
      "metadata": {
        "colab": {
          "background_save": true
        },
        "id": "8F_L2i77xVzt",
        "outputId": "f8199db3-33fb-4756-e7a0-3bcabccd4d3e"
      },
      "outputs": [
        {
          "name": "stdout",
          "output_type": "stream",
          "text": [
            "{'hits': [{'highlights': [], 'index': 'song', 'type': 'song', 'result': {'_type': 'song', 'annotation_count': 1, 'api_path': '/songs/1326837', 'artist_names': 'Matt Elliott', 'full_title': 'Lone Gunman Required by\\xa0Matt\\xa0Elliott', 'header_image_thumbnail_url': 'https://images.genius.com/d7368eb579b398a0a58996329a2d2e82.300x300x1.jpg', 'header_image_url': 'https://images.genius.com/d7368eb579b398a0a58996329a2d2e82.400x400x1.jpg', 'id': 1326837, 'instrumental': False, 'lyrics_owner_id': 1549345, 'lyrics_state': 'complete', 'lyrics_updated_at': 1429766152, 'path': '/Matt-elliott-lone-gunman-required-lyrics', 'pyongs_count': None, 'relationships_index_url': 'https://genius.com/Matt-elliott-lone-gunman-required-sample', 'release_date_components': {'year': 2006, 'month': 10, 'day': 23}, 'release_date_for_display': 'October 23, 2006', 'release_date_with_abbreviated_month_for_display': 'Oct. 23, 2006', 'song_art_image_thumbnail_url': 'https://images.genius.com/d7368eb579b398a0a58996329a2d2e82.300x300x1.jpg', 'song_art_image_url': 'https://images.genius.com/d7368eb579b398a0a58996329a2d2e82.400x400x1.jpg', 'stats': {'unreviewed_annotations': 0, 'hot': False}, 'title': 'Lone Gunman Required', 'title_with_featured': 'Lone Gunman Required', 'updated_by_human_at': 1666603240, 'url': 'https://genius.com/Matt-elliott-lone-gunman-required-lyrics', 'featured_artists': [], 'primary_artist': {'_type': 'artist', 'api_path': '/artists/367219', 'header_image_url': 'https://images.genius.com/78ed5ad35f2f8ef451e43e5acfc50483.465x465x1.jpg', 'id': 367219, 'image_url': 'https://images.genius.com/78ed5ad35f2f8ef451e43e5acfc50483.465x465x1.jpg', 'index_character': 'm', 'is_meme_verified': False, 'is_verified': False, 'name': 'Matt Elliott', 'slug': 'Matt-elliott', 'url': 'https://genius.com/artists/Matt-elliott'}}}, {'highlights': [], 'index': 'song', 'type': 'song', 'result': {'_type': 'song', 'annotation_count': 1, 'api_path': '/songs/1088358', 'artist_names': 'Genius Romanizations', 'full_title': 'The Gazette - Required Malfunction (Romanized) by\\xa0Genius\\xa0Romanizations', 'header_image_thumbnail_url': 'https://images.genius.com/3515c7ac2d6a27637037e60031892070.300x300x1.jpg', 'header_image_url': 'https://images.genius.com/3515c7ac2d6a27637037e60031892070.600x600x1.jpg', 'id': 1088358, 'instrumental': False, 'lyrics_owner_id': 13778890, 'lyrics_state': 'complete', 'lyrics_updated_at': 1678324348, 'path': '/Genius-romanizations-the-gazette-required-malfunction-romanized-lyrics', 'pyongs_count': None, 'relationships_index_url': 'https://genius.com/Genius-romanizations-the-gazette-required-malfunction-romanized-sample', 'release_date_components': {'year': 2012, 'month': 11, 'day': 7}, 'release_date_for_display': 'November 7, 2012', 'release_date_with_abbreviated_month_for_display': 'Nov. 7, 2012', 'song_art_image_thumbnail_url': 'https://images.genius.com/3515c7ac2d6a27637037e60031892070.300x300x1.jpg', 'song_art_image_url': 'https://images.genius.com/3515c7ac2d6a27637037e60031892070.600x600x1.jpg', 'stats': {'unreviewed_annotations': 0, 'hot': False}, 'title': 'The Gazette - Required Malfunction (Romanized)', 'title_with_featured': 'The Gazette - Required Malfunction (Romanized)', 'updated_by_human_at': 1678324348, 'url': 'https://genius.com/Genius-romanizations-the-gazette-required-malfunction-romanized-lyrics', 'featured_artists': [], 'primary_artist': {'_type': 'artist', 'api_path': '/artists/1507735', 'header_image_url': 'https://images.genius.com/e5afba664f84f0cadba65e3231dd57c7.1000x495x1.png', 'id': 1507735, 'image_url': 'https://images.genius.com/086f5809e96b133dd536982629e5844b.1000x1000x1.png', 'index_character': 'g', 'is_meme_verified': False, 'is_verified': False, 'name': 'Genius Romanizations', 'slug': 'Genius-romanizations', 'url': 'https://genius.com/artists/Genius-romanizations'}}}, {'highlights': [], 'index': 'song', 'type': 'song', 'result': {'_type': 'song', 'annotation_count': 0, 'api_path': '/songs/2436055', 'artist_names': 'Into It. Over It.', 'full_title': 'Required Reading by\\xa0Into\\xa0It. Over It.', 'header_image_thumbnail_url': 'https://images.rapgenius.com/141e598a29a6e74a21a971f16eb9732a.300x300x1.png', 'header_image_url': 'https://images.rapgenius.com/141e598a29a6e74a21a971f16eb9732a.401x401x1.png', 'id': 2436055, 'instrumental': False, 'lyrics_owner_id': 2688589, 'lyrics_state': 'complete', 'lyrics_updated_at': 1458429352, 'path': '/Into-it-over-it-required-reading-lyrics', 'pyongs_count': None, 'relationships_index_url': 'https://genius.com/Into-it-over-it-required-reading-sample', 'release_date_components': {'year': 2016, 'month': 3, 'day': 11}, 'release_date_for_display': 'March 11, 2016', 'release_date_with_abbreviated_month_for_display': 'Mar. 11, 2016', 'song_art_image_thumbnail_url': 'https://images.rapgenius.com/141e598a29a6e74a21a971f16eb9732a.300x300x1.png', 'song_art_image_url': 'https://images.rapgenius.com/141e598a29a6e74a21a971f16eb9732a.401x401x1.png', 'stats': {'unreviewed_annotations': 0, 'hot': False}, 'title': 'Required Reading', 'title_with_featured': 'Required Reading', 'updated_by_human_at': 1462415070, 'url': 'https://genius.com/Into-it-over-it-required-reading-lyrics', 'featured_artists': [], 'primary_artist': {'_type': 'artist', 'api_path': '/artists/365010', 'header_image_url': 'https://images.genius.com/06123a08bae93d21c70ba99db0b4b1a4.1000x667x1.jpg', 'id': 365010, 'image_url': 'https://images.genius.com/70826f0e8cf8e06624de6e1b0b5a845b.1000x704x1.jpg', 'index_character': 'i', 'is_meme_verified': False, 'is_verified': False, 'name': 'Into It. Over It.', 'slug': 'Into-it-over-it', 'url': 'https://genius.com/artists/Into-it-over-it'}}}, {'highlights': [], 'index': 'song', 'type': 'song', 'result': {'_type': 'song', 'annotation_count': 1, 'api_path': '/songs/5755129', 'artist_names': 'HEAVY CHEST', 'full_title': 'Required by\\xa0HEAVY\\xa0CHEST', 'header_image_thumbnail_url': 'https://images.genius.com/f4ade071d18956deef13f548175bfbe8.300x300x1.jpg', 'header_image_url': 'https://images.genius.com/f4ade071d18956deef13f548175bfbe8.1000x1000x1.jpg', 'id': 5755129, 'instrumental': False, 'lyrics_owner_id': 4955053, 'lyrics_state': 'complete', 'lyrics_updated_at': 1607992700, 'path': '/Heavy-chest-required-lyrics', 'pyongs_count': None, 'relationships_index_url': 'https://genius.com/Heavy-chest-required-sample', 'release_date_components': {'year': 2017, 'month': 9, 'day': 11}, 'release_date_for_display': 'September 11, 2017', 'release_date_with_abbreviated_month_for_display': 'Sep. 11, 2017', 'song_art_image_thumbnail_url': 'https://images.genius.com/f4ade071d18956deef13f548175bfbe8.300x300x1.jpg', 'song_art_image_url': 'https://images.genius.com/f4ade071d18956deef13f548175bfbe8.1000x1000x1.jpg', 'stats': {'unreviewed_annotations': 1, 'hot': False}, 'title': 'Required', 'title_with_featured': 'Required', 'updated_by_human_at': 1609216921, 'url': 'https://genius.com/Heavy-chest-required-lyrics', 'featured_artists': [], 'primary_artist': {'_type': 'artist', 'api_path': '/artists/2316521', 'header_image_url': 'https://images.genius.com/822eab34552854abfbe73948542d3088.1000x1000x1.jpg', 'id': 2316521, 'image_url': 'https://images.genius.com/822eab34552854abfbe73948542d3088.1000x1000x1.jpg', 'index_character': 'h', 'is_meme_verified': False, 'is_verified': False, 'name': 'HEAVY CHEST', 'slug': 'Heavy-chest', 'url': 'https://genius.com/artists/Heavy-chest'}}}, {'highlights': [], 'index': 'song', 'type': 'song', 'result': {'_type': 'song', 'annotation_count': 1, 'api_path': '/songs/1194422', 'artist_names': 'Mudvayne', 'full_title': 'Some Assembly Required by\\xa0Mudvayne', 'header_image_thumbnail_url': 'https://images.genius.com/d55a64bef90882d5d971053109ad58b2.300x300x1.png', 'header_image_url': 'https://images.genius.com/d55a64bef90882d5d971053109ad58b2.640x640x1.png', 'id': 1194422, 'instrumental': False, 'lyrics_owner_id': 4872770, 'lyrics_state': 'complete', 'lyrics_updated_at': 1593460948, 'path': '/Mudvayne-some-assembly-required-lyrics', 'pyongs_count': None, 'relationships_index_url': 'https://genius.com/Mudvayne-some-assembly-required-sample', 'release_date_components': {'year': 1997, 'month': None, 'day': None}, 'release_date_for_display': '1997', 'release_date_with_abbreviated_month_for_display': '1997', 'song_art_image_thumbnail_url': 'https://images.genius.com/d55a64bef90882d5d971053109ad58b2.300x300x1.png', 'song_art_image_url': 'https://images.genius.com/d55a64bef90882d5d971053109ad58b2.640x640x1.png', 'stats': {'unreviewed_annotations': 0, 'hot': False}, 'title': 'Some Assembly Required', 'title_with_featured': 'Some Assembly Required', 'updated_by_human_at': 1593460948, 'url': 'https://genius.com/Mudvayne-some-assembly-required-lyrics', 'featured_artists': [], 'primary_artist': {'_type': 'artist', 'api_path': '/artists/67442', 'header_image_url': 'https://images.genius.com/5196b6053c288bdb6ce9f8141f9b23fc.750x420x1.jpg', 'id': 67442, 'image_url': 'https://images.genius.com/cb3e293ddfe42bfd644f0242832e3bdd.999x999x1.jpg', 'index_character': 'm', 'is_meme_verified': False, 'is_verified': False, 'name': 'Mudvayne', 'slug': 'Mudvayne', 'url': 'https://genius.com/artists/Mudvayne'}}}, {'highlights': [], 'index': 'song', 'type': 'song', 'result': {'_type': 'song', 'annotation_count': 0, 'api_path': '/songs/2435803', 'artist_names': 'Tiga', 'full_title': 'No Fantasy Required by\\xa0Tiga', 'header_image_thumbnail_url': 'https://images.genius.com/aa83e3f58648a8a7eca36f821ebd0c66.300x300x1.jpg', 'header_image_url': 'https://images.genius.com/aa83e3f58648a8a7eca36f821ebd0c66.622x622x1.jpg', 'id': 2435803, 'instrumental': False, 'lyrics_owner_id': 1299009, 'lyrics_state': 'complete', 'lyrics_updated_at': 1498345068, 'path': '/Tiga-no-fantasy-required-lyrics', 'pyongs_count': None, 'relationships_index_url': 'https://genius.com/Tiga-no-fantasy-required-sample', 'release_date_components': {'year': 2016, 'month': 3, 'day': 4}, 'release_date_for_display': 'March 4, 2016', 'release_date_with_abbreviated_month_for_display': 'Mar. 4, 2016', 'song_art_image_thumbnail_url': 'https://images.genius.com/aa83e3f58648a8a7eca36f821ebd0c66.300x300x1.jpg', 'song_art_image_url': 'https://images.genius.com/aa83e3f58648a8a7eca36f821ebd0c66.622x622x1.jpg', 'stats': {'unreviewed_annotations': 0, 'hot': False}, 'title': 'No Fantasy Required', 'title_with_featured': 'No Fantasy Required', 'updated_by_human_at': 1498345068, 'url': 'https://genius.com/Tiga-no-fantasy-required-lyrics', 'featured_artists': [], 'primary_artist': {'_type': 'artist', 'api_path': '/artists/100146', 'header_image_url': 'https://images.genius.com/5997a3a8686d2f15bbac6c3690972f88.367x367x1.png', 'id': 100146, 'image_url': 'https://images.genius.com/5997a3a8686d2f15bbac6c3690972f88.367x367x1.png', 'index_character': 't', 'is_meme_verified': False, 'is_verified': False, 'name': 'Tiga', 'slug': 'Tiga', 'url': 'https://genius.com/artists/Tiga'}}}, {'highlights': [], 'index': 'song', 'type': 'song', 'result': {'_type': 'song', 'annotation_count': 0, 'api_path': '/songs/3344795', 'artist_names': 'Nardean', 'full_title': 'No Effort Required by\\xa0Nardean', 'header_image_thumbnail_url': 'https://images.genius.com/b2cf0f57d236ebc358e123160b0743fc.300x300x1.jpg', 'header_image_url': 'https://images.genius.com/b2cf0f57d236ebc358e123160b0743fc.1051x1051x1.jpg', 'id': 3344795, 'instrumental': False, 'lyrics_owner_id': 5562162, 'lyrics_state': 'complete', 'lyrics_updated_at': 1512158990, 'path': '/Nardean-no-effort-required-lyrics', 'pyongs_count': None, 'relationships_index_url': 'https://genius.com/Nardean-no-effort-required-sample', 'release_date_components': {'year': 2017, 'month': 11, 'day': 19}, 'release_date_for_display': 'November 19, 2017', 'release_date_with_abbreviated_month_for_display': 'Nov. 19, 2017', 'song_art_image_thumbnail_url': 'https://images.genius.com/b2cf0f57d236ebc358e123160b0743fc.300x300x1.jpg', 'song_art_image_url': 'https://images.genius.com/b2cf0f57d236ebc358e123160b0743fc.1051x1051x1.jpg', 'stats': {'unreviewed_annotations': 0, 'hot': False}, 'title': 'No Effort Required', 'title_with_featured': 'No Effort Required', 'updated_by_human_at': 1587192647, 'url': 'https://genius.com/Nardean-no-effort-required-lyrics', 'featured_artists': [], 'primary_artist': {'_type': 'artist', 'api_path': '/artists/1272205', 'header_image_url': 'https://images.genius.com/b2cf0f57d236ebc358e123160b0743fc.1051x1051x1.jpg', 'id': 1272205, 'image_url': 'https://images.genius.com/b2cf0f57d236ebc358e123160b0743fc.1051x1051x1.jpg', 'index_character': 'n', 'is_meme_verified': False, 'is_verified': True, 'name': 'Nardean', 'slug': 'Nardean', 'url': 'https://genius.com/artists/Nardean', 'iq': 688}}}, {'highlights': [], 'index': 'song', 'type': 'song', 'result': {'_type': 'song', 'annotation_count': 1, 'api_path': '/songs/1482755', 'artist_names': 'One Dollar Short', 'full_title': 'Some Assembly Required by\\xa0One\\xa0Dollar Short', 'header_image_thumbnail_url': 'https://images.genius.com/b2395a22f32cbe8f4d806d3234474f86.300x300x1.jpg', 'header_image_url': 'https://images.genius.com/b2395a22f32cbe8f4d806d3234474f86.1000x1000x1.jpg', 'id': 1482755, 'instrumental': False, 'lyrics_owner_id': 1549345, 'lyrics_state': 'complete', 'lyrics_updated_at': 1429889687, 'path': '/One-dollar-short-some-assembly-required-lyrics', 'pyongs_count': None, 'relationships_index_url': 'https://genius.com/One-dollar-short-some-assembly-required-sample', 'release_date_components': {'year': 2004, 'month': 7, 'day': 12}, 'release_date_for_display': 'July 12, 2004', 'release_date_with_abbreviated_month_for_display': 'Jul. 12, 2004', 'song_art_image_thumbnail_url': 'https://images.genius.com/b2395a22f32cbe8f4d806d3234474f86.300x300x1.jpg', 'song_art_image_url': 'https://images.genius.com/b2395a22f32cbe8f4d806d3234474f86.1000x1000x1.jpg', 'stats': {'unreviewed_annotations': 0, 'hot': False}, 'title': 'Some Assembly Required', 'title_with_featured': 'Some Assembly Required', 'updated_by_human_at': 1678345260, 'url': 'https://genius.com/One-dollar-short-some-assembly-required-lyrics', 'featured_artists': [], 'primary_artist': {'_type': 'artist', 'api_path': '/artists/344582', 'header_image_url': 'https://images.genius.com/8a7f0a57324bf80056bf87220665cb22.645x645x1.jpg', 'id': 344582, 'image_url': 'https://images.genius.com/8a7f0a57324bf80056bf87220665cb22.645x645x1.jpg', 'index_character': 'o', 'is_meme_verified': False, 'is_verified': False, 'name': 'One Dollar Short', 'slug': 'One-dollar-short', 'url': 'https://genius.com/artists/One-dollar-short'}}}, {'highlights': [], 'index': 'song', 'type': 'song', 'result': {'_type': 'song', 'annotation_count': 0, 'api_path': '/songs/3947643', 'artist_names': 'Aperture Science Psychoacoustic Laboratories', 'full_title': 'Some Assembly Required by\\xa0Aperture\\xa0Science Psychoacoustic Laboratories', 'header_image_thumbnail_url': 'https://images.genius.com/ff3006dfa477d1c306751a39c0cf990d.300x300x1.jpg', 'header_image_url': 'https://images.genius.com/ff3006dfa477d1c306751a39c0cf990d.1000x1000x1.jpg', 'id': 3947643, 'instrumental': True, 'lyrics_owner_id': 3365031, 'lyrics_state': 'complete', 'lyrics_updated_at': 1536442396, 'path': '/Aperture-science-psychoacoustic-laboratories-some-assembly-required-lyrics', 'pyongs_count': None, 'relationships_index_url': 'https://genius.com/Aperture-science-psychoacoustic-laboratories-some-assembly-required-sample', 'release_date_components': {'year': 2011, 'month': 9, 'day': 30}, 'release_date_for_display': 'September 30, 2011', 'release_date_with_abbreviated_month_for_display': 'Sep. 30, 2011', 'song_art_image_thumbnail_url': 'https://images.genius.com/ff3006dfa477d1c306751a39c0cf990d.300x300x1.jpg', 'song_art_image_url': 'https://images.genius.com/ff3006dfa477d1c306751a39c0cf990d.1000x1000x1.jpg', 'stats': {'unreviewed_annotations': 0, 'hot': False}, 'title': 'Some Assembly Required', 'title_with_featured': 'Some Assembly Required', 'updated_by_human_at': 1682031451, 'url': 'https://genius.com/Aperture-science-psychoacoustic-laboratories-some-assembly-required-lyrics', 'featured_artists': [], 'primary_artist': {'_type': 'artist', 'api_path': '/artists/1338537', 'header_image_url': 'https://images.genius.com/f42f972cff32d7f8d8aa911437866621.800x240x1.jpg', 'id': 1338537, 'image_url': 'https://images.genius.com/fffa63e676d94b7a36c7c05de8ebb562.170x170x1.jpg', 'index_character': 'a', 'is_meme_verified': False, 'is_verified': False, 'name': 'Aperture Science Psychoacoustic Laboratories', 'slug': 'Aperture-science-psychoacoustic-laboratories', 'url': 'https://genius.com/artists/Aperture-science-psychoacoustic-laboratories'}}}, {'highlights': [], 'index': 'song', 'type': 'song', 'result': {'_type': 'song', 'annotation_count': 0, 'api_path': '/songs/3179171', 'artist_names': 'Lorne Balfe', 'full_title': 'No Seat Belts Required by\\xa0Lorne\\xa0Balfe', 'header_image_thumbnail_url': 'https://images.genius.com/8e3df3dc871c20216e01b5a1ce0e1b63.300x300x1.jpg', 'header_image_url': 'https://images.genius.com/8e3df3dc871c20216e01b5a1ce0e1b63.600x600x1.jpg', 'id': 3179171, 'instrumental': True, 'lyrics_owner_id': 4274810, 'lyrics_state': 'complete', 'lyrics_updated_at': 1501485858, 'path': '/Lorne-balfe-no-seat-belts-required-lyrics', 'pyongs_count': None, 'relationships_index_url': 'https://genius.com/Lorne-balfe-no-seat-belts-required-sample', 'release_date_components': {'year': 2017, 'month': 2, 'day': 3}, 'release_date_for_display': 'February 3, 2017', 'release_date_with_abbreviated_month_for_display': 'Feb. 3, 2017', 'song_art_image_thumbnail_url': 'https://images.genius.com/8e3df3dc871c20216e01b5a1ce0e1b63.300x300x1.jpg', 'song_art_image_url': 'https://images.genius.com/8e3df3dc871c20216e01b5a1ce0e1b63.600x600x1.jpg', 'stats': {'unreviewed_annotations': 0, 'hot': False}, 'title': 'No Seat Belts Required', 'title_with_featured': 'No Seat Belts Required', 'updated_by_human_at': 1590008376, 'url': 'https://genius.com/Lorne-balfe-no-seat-belts-required-lyrics', 'featured_artists': [], 'primary_artist': {'_type': 'artist', 'api_path': '/artists/522601', 'header_image_url': 'https://images.genius.com/f2f6c25cbf2548a65893d13afb0aa607.639x640x1.jpg', 'id': 522601, 'image_url': 'https://images.genius.com/ed01b30f6f484b5ed7f877be531d2fba.600x600x1.jpg', 'index_character': 'l', 'is_meme_verified': False, 'is_verified': False, 'name': 'Lorne Balfe', 'slug': 'Lorne-balfe', 'url': 'https://genius.com/artists/Lorne-balfe'}}}]}\n"
          ]
        }
      ],
      "source": [
        "import requests\n",
        "\n",
        "url = \"https://genius-song-lyrics1.p.rapidapi.com/search/\"\n",
        "\n",
        "querystring = {\"q\":\"<REQUIRED>\",\"per_page\":\"10\",\"page\":\"1\"}\n",
        "\n",
        "headers = {\n",
        "\t\"X-RapidAPI-Key\": \"922ac22f29mshfdfdc1d149c727dp13d584jsn9a814473023b\",\n",
        "\t\"X-RapidAPI-Host\": \"genius-song-lyrics1.p.rapidapi.com\"\n",
        "}\n",
        "\n",
        "response = requests.get(url, headers=headers, params=querystring)\n",
        "\n",
        "print(response.json())"
      ]
    }
  ],
  "metadata": {
    "colab": {
      "provenance": []
    },
    "kernelspec": {
      "display_name": "Python 3",
      "name": "python3"
    },
    "language_info": {
      "name": "python"
    }
  },
  "nbformat": 4,
  "nbformat_minor": 0
}