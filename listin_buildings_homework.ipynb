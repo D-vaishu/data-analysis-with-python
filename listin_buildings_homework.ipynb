{
  "nbformat": 4,
  "nbformat_minor": 0,
  "metadata": {
    "colab": {
      "provenance": []
    },
    "kernelspec": {
      "name": "python3",
      "display_name": "Python 3"
    },
    "language_info": {
      "name": "python"
    }
  },
  "cells": [
    {
      "cell_type": "code",
      "execution_count": null,
      "metadata": {
        "id": "wp_TVrAZeU-6"
      },
      "outputs": [],
      "source": [
        "from bs4 import BeautifulSoup as bs"
      ]
    },
    {
      "cell_type": "code",
      "source": [
        "import requests as re"
      ],
      "metadata": {
        "id": "nLk51Xxuejwi"
      },
      "execution_count": null,
      "outputs": []
    },
    {
      "cell_type": "code",
      "source": [
        "import pandas as pd"
      ],
      "metadata": {
        "id": "31FBORVykuSO"
      },
      "execution_count": null,
      "outputs": []
    },
    {
      "cell_type": "code",
      "source": [
        "a=\"https://en.m.wikipedia.org/wiki/List_of_tallest_buildings_in_India\""
      ],
      "metadata": {
        "id": "Ntz0DoywemXt"
      },
      "execution_count": null,
      "outputs": []
    },
    {
      "cell_type": "code",
      "source": [
        "page=re.get(a)"
      ],
      "metadata": {
        "id": "XV-CLEtLe0aG"
      },
      "execution_count": null,
      "outputs": []
    },
    {
      "cell_type": "code",
      "source": [
        "code=bs(page.text,\"html\")\n",
        "print(code)"
      ],
      "metadata": {
        "id": "OFXDwFwsgMco"
      },
      "execution_count": null,
      "outputs": []
    },
    {
      "cell_type": "code",
      "source": [
        "table=code.find(\"table\")\n",
        "print(table)"
      ],
      "metadata": {
        "id": "6nnEGiUsfvtO"
      },
      "execution_count": null,
      "outputs": []
    },
    {
      "cell_type": "code",
      "source": [
        "tbhead=table.find_all(\"th\")\n",
        "print(tbhead)"
      ],
      "metadata": {
        "id": "HqaQ73YdgcgH"
      },
      "execution_count": null,
      "outputs": []
    },
    {
      "cell_type": "code",
      "source": [
        "headings=[i.text for i in tbhead]\n",
        "print(headings)"
      ],
      "metadata": {
        "id": "JSxoZnFOgfT2"
      },
      "execution_count": null,
      "outputs": []
    },
    {
      "cell_type": "code",
      "source": [
        "import pandas as pd\n",
        "mydf=pd.DataFrame(columns=headings)#creating a dataframe for the headings\n",
        "print(mydf)"
      ],
      "metadata": {
        "id": "Yv_4bGF9hClJ"
      },
      "execution_count": null,
      "outputs": []
    },
    {
      "cell_type": "code",
      "source": [
        "tr=table.find_all(\"tr\")\n",
        "print(tr)"
      ],
      "metadata": {
        "id": "xUE7icj4h-7y"
      },
      "execution_count": null,
      "outputs": []
    },
    {
      "cell_type": "code",
      "source": [
        "td=table.find_all(\"td\")\n",
        "print(td)"
      ],
      "metadata": {
        "id": "z-lUMQhag5x0"
      },
      "execution_count": null,
      "outputs": []
    },
    {
      "cell_type": "code",
      "source": [
        "data=[i.text for i in td]\n",
        "print(data)"
      ],
      "metadata": {
        "id": "RmjbLIsshPWl"
      },
      "execution_count": null,
      "outputs": []
    },
    {
      "cell_type": "code",
      "source": [
        "import pandas as pd\n",
        "df=pd.DataFrame(columns=data)#creating a dataframe for the headings\n",
        "print(df)\n"
      ],
      "metadata": {
        "id": "2wCVmpmchXkV"
      },
      "execution_count": null,
      "outputs": []
    },
    {
      "cell_type": "code",
      "source": [
        "data[1:4]\n",
        "data[4:8]\n",
        "data[4:12]"
      ],
      "metadata": {
        "id": "WlgLDuPuitff"
      },
      "execution_count": null,
      "outputs": []
    },
    {
      "cell_type": "code",
      "source": [
        "mydf = pd.DataFrame(columns=[\"Column_1\", \"Column_2\", \"Column_3\", \"Column_4\", \"Column_5\", \"Column_6\", \"Column_7\", \"Column_8\", \"Column_9\"])\n",
        "\n",
        "ind = 0\n",
        "st = 0\n",
        "stop = 9\n",
        "\n",
        "for i in range(len(data)//9):\n",
        "    mydf.loc[ind] = data[st:stop]\n",
        "    st += 9\n",
        "    stop += 9\n",
        "    ind += 1\n",
        "\n",
        "print(mydf)"
      ],
      "metadata": {
        "id": "ujpx5pHola5c"
      },
      "execution_count": null,
      "outputs": []
    },
    {
      "cell_type": "code",
      "source": [
        "mydf.to_csv(\"listofbuildings.csv\")"
      ],
      "metadata": {
        "id": "c4YFfpzPiRYG"
      },
      "execution_count": null,
      "outputs": []
    },
    {
      "cell_type": "code",
      "source": [],
      "metadata": {
        "id": "j1gUV6lKlZWM"
      },
      "execution_count": null,
      "outputs": []
    }
  ]
}