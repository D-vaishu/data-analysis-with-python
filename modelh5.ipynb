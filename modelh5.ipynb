{
  "nbformat": 4,
  "nbformat_minor": 0,
  "metadata": {
    "colab": {
      "provenance": []
    },
    "kernelspec": {
      "name": "python3",
      "display_name": "Python 3"
    },
    "language_info": {
      "name": "python"
    }
  },
  "cells": [
    {
      "cell_type": "code",
      "source": [
        "from tensorflow .keras.models import load_model\n",
        "from tensorflow.keras.preprocessing import image\n",
        "import numpy as np\n"
      ],
      "metadata": {
        "id": "JlWZj6chivel"
      },
      "execution_count": null,
      "outputs": []
    },
    {
      "cell_type": "code",
      "source": [
        "from google.colab import drive\n",
        "drive.mount('/content/drive')"
      ],
      "metadata": {
        "colab": {
          "base_uri": "https://localhost:8080/"
        },
        "id": "iiKEfxu2AUrT",
        "outputId": "b6be1ee4-9579-4932-cfa6-34bf358126cc"
      },
      "execution_count": null,
      "outputs": [
        {
          "output_type": "stream",
          "name": "stdout",
          "text": [
            "Drive already mounted at /content/drive; to attempt to forcibly remount, call drive.mount(\"/content/drive\", force_remount=True).\n"
          ]
        }
      ]
    },
    {
      "cell_type": "code",
      "execution_count": null,
      "metadata": {
        "id": "F2RnpLatfUta"
      },
      "outputs": [],
      "source": [
        "model=load_model(\"/content/drive/MyDrive/Brain_Tumor_Detection-20240302T042009Z-001/Model (1).h5\")"
      ]
    },
    {
      "cell_type": "code",
      "source": [
        "#load and preprocess the test image\n",
        "test_image_path='/content/drive/MyDrive/Brain_Tumor_Detection-20240302T042009Z-001/tensorflow/Test/pred/pred12.jpg'\n",
        "img=image.load_img(test_image_path,target_size=(224,224))\n",
        "img_array=image.img_to_array(img)\n",
        "img_array=np.expand_dims(img_array,axis=0)"
      ],
      "metadata": {
        "id": "orzS9BtzB3Yj"
      },
      "execution_count": null,
      "outputs": []
    },
    {
      "cell_type": "code",
      "source": [
        "#Add batch dimension\n",
        "img_array/=255. #Normalize pixel values\n",
        "#Make predictions\n",
        "prediction=model.predict(img_array)\n",
        "#print prediction\n",
        "print(prediction)"
      ],
      "metadata": {
        "colab": {
          "base_uri": "https://localhost:8080/"
        },
        "id": "9VfV76-Jsgc_",
        "outputId": "d22f1509-ea85-4e88-9787-f08f4d814e01"
      },
      "execution_count": null,
      "outputs": [
        {
          "output_type": "stream",
          "name": "stdout",
          "text": [
            "1/1 [==============================] - 0s 237ms/step\n",
            "[[0.35292643]]\n"
          ]
        }
      ]
    },
    {
      "cell_type": "code",
      "source": [
        "if prediction < 0.5:\n",
        "  print(\"Prediction :No tumor \")\n",
        "else:\n",
        "  print(\"Prediction: Tumor present\")"
      ],
      "metadata": {
        "colab": {
          "base_uri": "https://localhost:8080/"
        },
        "id": "1VEleaUYEYuv",
        "outputId": "4f263fcf-1990-4ae4-87fa-b4647b26d41a"
      },
      "execution_count": null,
      "outputs": [
        {
          "output_type": "stream",
          "name": "stdout",
          "text": [
            "Prediction :No tumor \n"
          ]
        }
      ]
    },
    {
      "cell_type": "code",
      "source": [
        "if prediction < 0.5:\n",
        "  print(\"Prediction: No tumer (Probability:\",prediction[0][0])\n",
        "else:\n",
        "  print(\"Prediction: Tumor present (Probability:\",prediction[0][0])"
      ],
      "metadata": {
        "colab": {
          "base_uri": "https://localhost:8080/"
        },
        "id": "qQTm6wkNaxDQ",
        "outputId": "aa7c3022-dba1-45d2-8db7-4932bbf1982d"
      },
      "execution_count": null,
      "outputs": [
        {
          "output_type": "stream",
          "name": "stdout",
          "text": [
            "Prediction: No tumer (Probability: 0.35292643\n"
          ]
        }
      ]
    }
  ]
}