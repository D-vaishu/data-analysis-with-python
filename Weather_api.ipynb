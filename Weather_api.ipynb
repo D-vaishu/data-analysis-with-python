{
  "cells": [
    {
      "cell_type": "code",
      "execution_count": null,
      "metadata": {
        "colab": {
          "base_uri": "https://localhost:8080/"
        },
        "id": "cvijHo4bPevL",
        "outputId": "a95e741c-53a9-4fdc-823f-dff11c571b43"
      },
      "outputs": [
        {
          "output_type": "stream",
          "name": "stdout",
          "text": [
            "{'location': {'name': 'Macherla', 'region': 'Andhra Pradesh', 'country': 'India', 'lat': 16.48, 'lon': 79.43, 'tz_id': 'Asia/Kolkata', 'localtime_epoch': 1709133037, 'localtime': '2024-02-28 20:40'}, 'current': {'last_updated_epoch': 1709132400, 'last_updated': '2024-02-28 20:30', 'temp_c': 26.3, 'temp_f': 79.4, 'is_day': 0, 'condition': {'text': 'Clear ', 'icon': '//cdn.weatherapi.com/weather/64x64/night/113.png', 'code': 1000}, 'wind_mph': 11.9, 'wind_kph': 19.1, 'wind_degree': 160, 'wind_dir': 'SSE', 'pressure_mb': 1012.0, 'pressure_in': 29.87, 'precip_mm': 0.0, 'precip_in': 0.0, 'humidity': 54, 'cloud': 2, 'feelslike_c': 27.2, 'feelslike_f': 80.9, 'vis_km': 10.0, 'vis_miles': 6.0, 'uv': 1.0, 'gust_mph': 19.1, 'gust_kph': 30.8}}\n"
          ]
        }
      ],
      "source": [
        "\n",
        "import requests\n",
        "api_key=\"fddf7e14f9d145fb91c53729242802\"\n",
        "city=\"macherla\"\n",
        "url=f\"http://api.weatherapi.com/v1/current.json?key={api_key}&q={city}\"\n",
        "response=requests.get(url)\n",
        "data=response.json()\n",
        "print(data)\n",
        "\n"
      ]
    },
    {
      "cell_type": "code",
      "execution_count": null,
      "metadata": {
        "colab": {
          "base_uri": "https://localhost:8080/"
        },
        "id": "SkpLIkzLScuE",
        "outputId": "0f3fb5c7-8be9-4522-fbd7-31148b3f5532"
      },
      "outputs": [
        {
          "data": {
            "text/plain": [
              "dict"
            ]
          },
          "execution_count": 9,
          "metadata": {},
          "output_type": "execute_result"
        }
      ],
      "source": [
        "type(data)"
      ]
    },
    {
      "cell_type": "code",
      "execution_count": null,
      "metadata": {
        "colab": {
          "base_uri": "https://localhost:8080/",
          "height": 36
        },
        "id": "WrbGo1aISfpu",
        "outputId": "5e212029-3c39-418c-af33-fd46dff06722"
      },
      "outputs": [
        {
          "data": {
            "application/vnd.google.colaboratory.intrinsic+json": {
              "type": "string"
            },
            "text/plain": [
              "'Macherla'"
            ]
          },
          "execution_count": 18,
          "metadata": {},
          "output_type": "execute_result"
        }
      ],
      "source": [
        "data['location']['name']"
      ]
    },
    {
      "cell_type": "code",
      "execution_count": null,
      "metadata": {
        "colab": {
          "base_uri": "https://localhost:8080/"
        },
        "id": "0_q52qU3Slei",
        "outputId": "fbbc0758-52ba-49f3-b8cb-d4b71ddadcee"
      },
      "outputs": [
        {
          "name": "stdout",
          "output_type": "stream",
          "text": [
            "city Macherla\n"
          ]
        }
      ],
      "source": [
        "print(\"city\",data['location']['name'])"
      ]
    },
    {
      "cell_type": "code",
      "execution_count": null,
      "metadata": {
        "id": "ug29EiEDS9VA"
      },
      "outputs": [],
      "source": []
    },
    {
      "cell_type": "code",
      "execution_count": null,
      "metadata": {
        "colab": {
          "base_uri": "https://localhost:8080/"
        },
        "id": "t-XEX8XoSvhb",
        "outputId": "5cad9a1c-678b-43d8-8798-bbbfc5be11b8"
      },
      "outputs": [
        {
          "name": "stdout",
          "output_type": "stream",
          "text": [
            "city Macherla\n",
            "state Andhra Pradesh\n",
            "country India\n",
            "temparature 32.1\n",
            "temparature 89.8\n",
            "temparature 1\n",
            "wind 8.9\n",
            "wind direction SE\n",
            "humidity 31\n",
            "pressure 1013.0\n",
            "miles 6.0\n",
            "feels 31.6\n"
          ]
        }
      ],
      "source": [
        "print(\"city\",data['location']['name'])\n",
        "print(\"state\",data['location']['region'])\n",
        "print(\"country\",data['location']['country'])\n",
        "print(\"temparature\",data['current']['temp_c'])\n",
        "print(\"temparature\",data['current']['temp_f'])\n",
        "print(\"temparature\",data['current']['is_day'])\n",
        "print(\"wind\",data['current']['wind_mph'])\n",
        "print(\"wind direction\",data['current']['wind_dir'])\n",
        "print(\"humidity\",data['current']['humidity'])\n",
        "print(\"pressure\",data['current']['pressure_mb'])\n",
        "print(\"miles\",data['current']['vis_miles'])\n",
        "print(\"feels\",data['current']['feelslike_c'])"
      ]
    },
    {
      "cell_type": "code",
      "execution_count": null,
      "metadata": {
        "colab": {
          "base_uri": "https://localhost:8080/"
        },
        "id": "Mnrjbha7Vz8p",
        "outputId": "137ae508-286d-4284-f24c-32110a0aad6a"
      },
      "outputs": [
        {
          "name": "stdout",
          "output_type": "stream",
          "text": [
            "enter city name: vijayawada\n"
          ]
        }
      ],
      "source": [
        "city=input(\"enter city name: \")"
      ]
    },
    {
      "cell_type": "code",
      "execution_count": null,
      "metadata": {
        "colab": {
          "base_uri": "https://localhost:8080/"
        },
        "id": "gDEpI3xcWTMW",
        "outputId": "70bbcc0b-487a-4abe-e06c-b6f3499008fa"
      },
      "outputs": [
        {
          "name": "stdout",
          "output_type": "stream",
          "text": [
            "enter city name: vizag\n",
            "{'location': {'name': 'Vizag', 'region': 'Andhra Pradesh', 'country': 'India', 'lat': 17.7, 'lon': 83.3, 'tz_id': 'Asia/Kolkata', 'localtime_epoch': 1709101718, 'localtime': '2024-02-28 11:58'}, 'current': {'last_updated_epoch': 1709100900, 'last_updated': '2024-02-28 11:45', 'temp_c': 28.2, 'temp_f': 82.8, 'is_day': 1, 'condition': {'text': 'Sunny', 'icon': '//cdn.weatherapi.com/weather/64x64/day/113.png', 'code': 1000}, 'wind_mph': 6.0, 'wind_kph': 9.7, 'wind_degree': 126, 'wind_dir': 'SE', 'pressure_mb': 1014.0, 'pressure_in': 29.94, 'precip_mm': 0.0, 'precip_in': 0.0, 'humidity': 57, 'cloud': 5, 'feelslike_c': 29.7, 'feelslike_f': 85.5, 'vis_km': 10.0, 'vis_miles': 6.0, 'uv': 7.0, 'gust_mph': 7.0, 'gust_kph': 11.2}}\n"
          ]
        }
      ],
      "source": [
        "import requests\n",
        "api_key=\"fddf7e14f9d145fb91c53729242802\"\n",
        "city=input(\"enter city name: \")\n",
        "url=f\"http://api.weatherapi.com/v1/current.json?key={api_key}&q={city}\"\n",
        "response=requests.get(url)\n",
        "data=response.json()\n",
        "print(data)\n",
        "if 'error' in data:\n",
        "  if data['error']['code']==1006:\n",
        "     print(\"no location found\")\n",
        "  else:\n",
        "    print(\"city\",data['location']['name'])\n",
        "    print(\"state\",data['location']['region'])\n",
        "    print(\"country\",data['location']['country'])\n",
        "    print(\"temparature\",data['current']['temp_c'])\n",
        "    print(\"temparature\",data['current']['temp_f'])\n",
        "    print(\"temparature\",data['current']['is_day'])\n",
        "    print(\"wind\",data['current']['wind_mph'])\n",
        "    print(\"wind direction\",data['current']['wind_dir'])\n",
        "    print(\"humidity\",data['current']['humidity'])\n",
        "    print(\"pressure\",data['current']['pressure_mb'])\n",
        "    print(\"miles\",data['current']['vis_miles'])\n",
        "    print(\"feels\",data['current']['feelslike_c'])\n",
        "\n"
      ]
    },
    {
      "cell_type": "code",
      "execution_count": null,
      "metadata": {
        "colab": {
          "background_save": true,
          "base_uri": "https://localhost:8080/"
        },
        "id": "OLv0Ivqcab3p",
        "outputId": "df2f3f15-af7b-419d-8c3b-27c277a623cf"
      },
      "outputs": [
        {
          "name": "stderr",
          "output_type": "stream",
          "text": [
            "<>:22: SyntaxWarning: list indices must be integers or slices, not str; perhaps you missed a comma?\n",
            "<>:22: SyntaxWarning: list indices must be integers or slices, not str; perhaps you missed a comma?\n"
          ]
        }
      ],
      "source": [
        "import requests\n",
        "api_key=\"fddf7e14f9d145fb91c53729242802\"\n",
        "city=input(\"enter city name: \")\n",
        "url=f\"http://api.weatherapi.com/v1/current.json?key={api_key}&q={city}\"\n",
        "response=requests.get(url)\n",
        "data=response.json()\n",
        "print(data)\n",
        "if response.status_code ==200 :\n",
        "    print(\"city\",data['location']['name'])\n",
        "    print(\"state\",data['location']['region'])\n",
        "    print(\"country\",data['location']['country'])\n",
        "    print(\"temparature\",data['current']['temp_c'])\n",
        "    print(\"temparature\",data['current']['temp_f'])\n",
        "    print(\"temparature\",data['current']['is_day'])\n",
        "    print(\"wind\",data['current']['wind_mph'])\n",
        "    print(\"wind direction\",data['current']['wind_dir'])\n",
        "    print(\"humidity\",data['current']['humidity'])\n",
        "    print(\"pressure\",data['current']['pressure_mb'])\n",
        "    print(\"miles\",data['current']['vis_miles'])\n",
        "    print(\"feels\",data['current']['feelslike_c'])\n",
        "else:\n",
        "      print(['error'] ['message'])\n",
        "\n"
      ]
    }
  ],
  "metadata": {
    "colab": {
      "provenance": []
    },
    "kernelspec": {
      "display_name": "Python 3",
      "name": "python3"
    },
    "language_info": {
      "name": "python"
    }
  },
  "nbformat": 4,
  "nbformat_minor": 0
}